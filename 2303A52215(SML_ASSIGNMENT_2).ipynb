{
  "nbformat": 4,
  "nbformat_minor": 0,
  "metadata": {
    "colab": {
      "provenance": []
    },
    "kernelspec": {
      "name": "python3",
      "display_name": "Python 3"
    },
    "language_info": {
      "name": "python"
    }
  },
  "cells": [
    {
      "cell_type": "markdown",
      "source": [
        "**ASSIGNMENT - 2**"
      ],
      "metadata": {
        "id": "TbX9m7Sj02Vv"
      }
    },
    {
      "cell_type": "markdown",
      "source": [
        "**Question 1:**\n",
        "\n",
        "**Given the following dataset: X={1.3,1.5,2.6,2.6,3.2,3.9,4.2,3.7,3.10,3.0,11,6.7,1.9}. Compute the density of the data using a histogram with 5 bins.**"
      ],
      "metadata": {
        "id": "wJsxQ7lfz4mj"
      }
    },
    {
      "cell_type": "code",
      "source": [
        "import numpy as np\n",
        "import matplotlib.pyplot as plt\n",
        "\n",
        "X = np.array([1.3, 1.5, 2.6, 2.6, 3.2, 3.9, 4.2, 3.7, 3.10, 3.0, 11, 6.7, 1.9])\n",
        "hist, bin_edges = np.histogram(X, bins=5, density=True)\n",
        "\n",
        "plt.bar(bin_edges[:-1], hist, width=np.diff(bin_edges), color='lightblue', alpha=0.7, edgecolor='black', align='edge')\n",
        "plt.grid(True)\n",
        "plt.xlabel('Value')\n",
        "plt.ylabel('Density')\n",
        "plt.title('Density Histogram')\n",
        "plt.show()\n",
        "\n"
      ],
      "metadata": {
        "colab": {
          "base_uri": "https://localhost:8080/",
          "height": 472
        },
        "id": "AiYKZdAF0L3U",
        "outputId": "8ad9ba32-d517-413f-9c77-17bf45ded44b"
      },
      "execution_count": 2,
      "outputs": [
        {
          "output_type": "display_data",
          "data": {
            "text/plain": [
              "<Figure size 640x480 with 1 Axes>"
            ],
            "image/png": "[encoded data removed]"
          },
          "metadata": {}
        }
      ]
    },
    {
      "cell_type": "markdown",
      "source": [
        "**Question 2:**\n",
        "\n",
        " **(Dependent Variables)     (Independent Variables)**\n",
        "\n",
        "       12                         51\n",
        "\n",
        "       13                         63\n",
        "\n",
        "       56                         37\n",
        "       \n",
        "       23                         88\n",
        "\n",
        "       41                         33\n",
        "\n",
        "       28                         72\n",
        "\n",
        "       51                         81\n",
        "\n"
      ],
      "metadata": {
        "id": "4A0T2BV11DSg"
      }
    },
    {
      "cell_type": "markdown",
      "source": [
        "**Find Mean, Median, Mode , Variance , Standard deviation , Range , Interquartile Range (IQR),  Skewness ,Kurtosis of x and y .**"
      ],
      "metadata": {
        "id": "7aca2tn82O2A"
      }
    },
    {
      "cell_type": "code",
      "source": [
        "import numpy as np\n",
        "from scipy import stats\n",
        "\n",
        "dependent_vars = np.array([12, 13, 56, 23, 41, 28, 51])\n",
        "independent_vars = np.array([51, 63, 37, 88, 33, 72, 81])\n",
        "\n",
        "dep_mean = np.mean(dependent_vars)\n",
        "dep_median = np.median(dependent_vars)\n",
        "dep_mode_result = stats.mode(dependent_vars)\n",
        "dep_mode = dep_mode_result.mode[0] if isinstance(dep_mode_result.mode, np.ndarray) else dep_mode_result.mode\n",
        "dep_mode_count = dep_mode_result.count[0] if isinstance(dep_mode_result.count, np.ndarray) else dep_mode_result.count\n",
        "dep_variance = np.var(dependent_vars)\n",
        "dep_std = np.std(dependent_vars)\n",
        "dep_range = np.ptp(dependent_vars)\n",
        "dep_iqr = stats.iqr(dependent_vars)\n",
        "dep_skewness = stats.skew(dependent_vars)\n",
        "dep_kurtosis = stats.kurtosis(dependent_vars)\n",
        "\n",
        "ind_mean = np.mean(independent_vars)\n",
        "ind_median = np.median(independent_vars)\n",
        "ind_mode_result = stats.mode(independent_vars)\n",
        "ind_mode = ind_mode_result.mode[0] if isinstance(ind_mode_result.mode, np.ndarray) else ind_mode_result.mode\n",
        "ind_mode_count = ind_mode_result.count[0] if isinstance(ind_mode_result.count, np.ndarray) else ind_mode_result.count\n",
        "ind_variance = np.var(independent_vars)\n",
        "ind_std = np.std(independent_vars)\n",
        "ind_range = np.ptp(independent_vars)\n",
        "ind_iqr = stats.iqr(independent_vars)\n",
        "ind_skewness = stats.skew(independent_vars)\n",
        "ind_kurtosis = stats.kurtosis(independent_vars)\n",
        "\n",
        "print(\"Dependent Variables Statistics\")\n",
        "print(f\"Mean: {dep_mean:.2f}\")\n",
        "print(f\"Median: {dep_median:.2f}\")\n",
        "print(f\"Mode: {dep_mode} (Count: {dep_mode_count})\")\n",
        "print(f\"Variance: {dep_variance:.2f}\")\n",
        "print(f\"Standard Deviation: {dep_std:.2f}\")\n",
        "print(f\"Range: {dep_range:.2f}\")\n",
        "print(f\"IQR: {dep_iqr:.2f}\")\n",
        "print(f\"Skewness: {dep_skewness:.2f}\")\n",
        "print(f\"Kurtosis: {dep_kurtosis:.2f}\")\n",
        "\n",
        "print(\"\\nIndependent Variables Statistics\")\n",
        "print(f\"Mean: {ind_mean:.2f}\")\n",
        "print(f\"Median: {ind_median:.2f}\")\n",
        "print(f\"Mode: {ind_mode} (Count: {ind_mode_count})\")\n",
        "print(f\"Variance: {ind_variance:.2f}\")\n",
        "print(f\"Standard Deviation: {ind_std:.2f}\")\n",
        "print(f\"Range: {ind_range:.2f}\")\n",
        "print(f\"IQR: {ind_iqr:.2f}\")\n",
        "print(f\"Skewness: {ind_skewness:.2f}\")\n",
        "print(f\"Kurtosis: {ind_kurtosis:.2f}\")\n"
      ],
      "metadata": {
        "colab": {
          "base_uri": "https://localhost:8080/"
        },
        "id": "ifSY5fTl2U3V",
        "outputId": "d1a9d9a6-5c80-4820-e1ed-9848c1c6e1ef"
      },
      "execution_count": 3,
      "outputs": [
        {
          "output_type": "stream",
          "name": "stdout",
          "text": [
            "Dependent Variables Statistics\n",
            "Mean: 32.00\n",
            "Median: 28.00\n",
            "Mode: 12 (Count: 1)\n",
            "Variance: 268.00\n",
            "Standard Deviation: 16.37\n",
            "Range: 44.00\n",
            "IQR: 28.00\n",
            "Skewness: 0.19\n",
            "Kurtosis: -1.48\n",
            "\n",
            "Independent Variables Statistics\n",
            "Mean: 60.71\n",
            "Median: 63.00\n",
            "Mode: 33 (Count: 1)\n",
            "Variance: 387.63\n",
            "Standard Deviation: 19.69\n",
            "Range: 55.00\n",
            "IQR: 32.50\n",
            "Skewness: -0.10\n",
            "Kurtosis: -1.43\n"
          ]
        }
      ]
    },
    {
      "cell_type": "markdown",
      "source": [
        "**Question 3:**\n",
        "**From the above data Find Mean, Median, Mode, Variance, Standard deviation, Range , Interquartile Range (IQR),  Skewness ,Kurtosis of each feature.**"
      ],
      "metadata": {
        "id": "Y4IWlR3o2tft"
      }
    },
    {
      "cell_type": "code",
      "source": [
        "import pandas as pd\n",
        "from scipy import stats\n",
        "import numpy as np\n",
        "\n",
        "data = pd.read_csv('/content/housing.csv')\n",
        "\n",
        "for column in data.columns:\n",
        "    feature = data[column].dropna()  # Drop missing values if any\n",
        "\n",
        "    # Check if the column is numeric before calculating statistics\n",
        "    if np.issubdtype(feature.dtype, np.number):\n",
        "        mean = np.mean(feature)\n",
        "        median = np.median(feature)\n",
        "        mode_result = stats.mode(feature)\n",
        "        mode = mode_result.mode[0] if isinstance(mode_result.mode, np.ndarray) else mode_result.mode\n",
        "        mode_count = mode_result.count[0] if isinstance(mode_result.count, np.ndarray) else mode_result.count\n",
        "        variance = np.var(feature)\n",
        "        std_dev = np.std(feature)\n",
        "        range_value = np.ptp(feature)\n",
        "        iqr = stats.iqr(feature)\n",
        "        skewness = stats.skew(feature)\n",
        "        kurtosis = stats.kurtosis(feature)\n",
        "\n",
        "        print(f\"Statistics for {column}:\")\n",
        "        print(f\"Mean: {mean:.2f}\")\n",
        "        print(f\"Median: {median:.2f}\")\n",
        "        print(f\"Mode: {mode} (Count: {mode_count})\")\n",
        "        print(f\"Variance: {variance:.2f}\")\n",
        "        print(f\"Standard Deviation: {std_dev:.2f}\")\n",
        "        print(f\"Range: {range_value:.2f}\")\n",
        "        print(f\"IQR: {iqr:.2f}\")\n",
        "        print(f\"Skewness: {skewness:.2f}\")\n",
        "        print(f\"Kurtosis: {kurtosis:.2f}\")\n",
        "\n",
        ""
      ],
      "metadata": {
        "colab": {
          "base_uri": "https://localhost:8080/"
        },
        "id": "AX1nK92a23-9",
        "outputId": "f38842d3-1e21-4508-c98d-9ad3c16994ac"
      },
      "execution_count": 7,
      "outputs": [
        {
          "output_type": "stream",
          "name": "stdout",
          "text": [
            "Statistics for longitude:\n",
            "Mean: -119.57\n",
            "Median: -118.49\n",
            "Mode: -118.31 (Count: 162)\n",
            "Variance: 4.01\n",
            "Standard Deviation: 2.00\n",
            "Range: 10.04\n",
            "IQR: 3.79\n",
            "Skewness: -0.30\n",
            "Kurtosis: -1.33\n",
            "Statistics for latitude:\n",
            "Mean: 35.63\n",
            "Median: 34.26\n",
            "Mode: 34.06 (Count: 244)\n",
            "Variance: 4.56\n",
            "Standard Deviation: 2.14\n",
            "Range: 9.41\n",
            "IQR: 3.78\n",
            "Skewness: 0.47\n",
            "Kurtosis: -1.12\n",
            "Statistics for housing_median_age:\n",
            "Mean: 28.64\n",
            "Median: 29.00\n",
            "Mode: 52.0 (Count: 1273)\n",
            "Variance: 158.39\n",
            "Standard Deviation: 12.59\n",
            "Range: 51.00\n",
            "IQR: 19.00\n",
            "Skewness: 0.06\n",
            "Kurtosis: -0.80\n",
            "Statistics for total_rooms:\n",
            "Mean: 2635.76\n",
            "Median: 2127.00\n",
            "Mode: 1527.0 (Count: 18)\n",
            "Variance: 4759214.51\n",
            "Standard Deviation: 2181.56\n",
            "Range: 39318.00\n",
            "IQR: 1700.25\n",
            "Skewness: 4.15\n",
            "Kurtosis: 32.62\n",
            "Statistics for total_bedrooms:\n",
            "Mean: 537.87\n",
            "Median: 435.00\n",
            "Mode: 280.0 (Count: 55)\n",
            "Variance: 177556.69\n",
            "Standard Deviation: 421.37\n",
            "Range: 6444.00\n",
            "IQR: 351.00\n",
            "Skewness: 3.46\n",
            "Kurtosis: 21.98\n",
            "Statistics for population:\n",
            "Mean: 1425.48\n",
            "Median: 1166.00\n",
            "Mode: 891.0 (Count: 25)\n",
            "Variance: 1282408.32\n",
            "Standard Deviation: 1132.43\n",
            "Range: 35679.00\n",
            "IQR: 938.00\n",
            "Skewness: 4.94\n",
            "Kurtosis: 73.54\n",
            "Statistics for households:\n",
            "Mean: 499.54\n",
            "Median: 409.00\n",
            "Mode: 306.0 (Count: 57)\n",
            "Variance: 146168.96\n",
            "Standard Deviation: 382.32\n",
            "Range: 6081.00\n",
            "IQR: 325.00\n",
            "Skewness: 3.41\n",
            "Kurtosis: 22.05\n",
            "Statistics for median_income:\n",
            "Mean: 3.87\n",
            "Median: 3.53\n",
            "Mode: 3.125 (Count: 49)\n",
            "Variance: 3.61\n",
            "Standard Deviation: 1.90\n",
            "Range: 14.50\n",
            "IQR: 2.18\n",
            "Skewness: 1.65\n",
            "Kurtosis: 4.95\n",
            "Statistics for median_house_value:\n",
            "Mean: 206855.82\n",
            "Median: 179700.00\n",
            "Mode: 500001.0 (Count: 965)\n",
            "Variance: 13315503000.82\n",
            "Standard Deviation: 115392.82\n",
            "Range: 485002.00\n",
            "IQR: 145125.00\n",
            "Skewness: 0.98\n",
            "Kurtosis: 0.33\n"
          ]
        }
      ]
    }
  ]
}